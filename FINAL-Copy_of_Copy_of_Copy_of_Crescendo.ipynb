{
  "nbformat": 4,
  "nbformat_minor": 0,
  "metadata": {
    "colab": {
      "name": "Copy of Copy of Copy of Crescendo.ipynb",
      "provenance": [],
      "collapsed_sections": [],
      "include_colab_link": true
    },
    "kernelspec": {
      "name": "python3",
      "display_name": "Python 3"
    },
    "language_info": {
      "name": "python"
    }
  },
  "cells": [
    {
      "cell_type": "markdown",
      "metadata": {
        "id": "view-in-github",
        "colab_type": "text"
      },
      "source": [
        "<a href=\"https://colab.research.google.com/github/RIDDHIOZA25/25_DYNAMIC_CODERS_CRESCENDO_2K22/blob/main/FINAL-Copy_of_Copy_of_Copy_of_Crescendo.ipynb\" target=\"_parent\"><img src=\"https://colab.research.google.com/assets/colab-badge.svg\" alt=\"Open In Colab\"/></a>"
      ]
    },
    {
      "cell_type": "code",
      "source": [
        "!pip install anvil-uplink"
      ],
      "metadata": {
        "colab": {
          "base_uri": "https://localhost:8080/",
          "height": 419
        },
        "id": "qWpyLAv_qCbJ",
        "outputId": "a479f5d9-331e-4780-edd7-f49a5db4685a"
      },
      "execution_count": null,
      "outputs": [
        {
          "output_type": "stream",
          "name": "stdout",
          "text": [
            "Collecting anvil-uplink\n",
            "  Downloading anvil_uplink-0.3.42-py2.py3-none-any.whl (64 kB)\n",
            "\u001b[?25l\r\u001b[K     |█████                           | 10 kB 24.6 MB/s eta 0:00:01\r\u001b[K     |██████████▏                     | 20 kB 30.7 MB/s eta 0:00:01\r\u001b[K     |███████████████▏                | 30 kB 33.7 MB/s eta 0:00:01\r\u001b[K     |████████████████████▎           | 40 kB 33.9 MB/s eta 0:00:01\r\u001b[K     |█████████████████████████▎      | 51 kB 21.6 MB/s eta 0:00:01\r\u001b[K     |██████████████████████████████▍ | 61 kB 23.9 MB/s eta 0:00:01\r\u001b[K     |████████████████████████████████| 64 kB 2.9 MB/s \n",
            "\u001b[?25hCollecting ws4py\n",
            "  Downloading ws4py-0.5.1.tar.gz (51 kB)\n",
            "\u001b[?25l\r\u001b[K     |██████▍                         | 10 kB 35.1 MB/s eta 0:00:01\r\u001b[K     |████████████▊                   | 20 kB 42.6 MB/s eta 0:00:01\r\u001b[K     |███████████████████▏            | 30 kB 52.1 MB/s eta 0:00:01\r\u001b[K     |█████████████████████████▌      | 40 kB 56.5 MB/s eta 0:00:01\r\u001b[K     |███████████████████████████████▉| 51 kB 61.1 MB/s eta 0:00:01\r\u001b[K     |████████████████████████████████| 51 kB 219 kB/s \n",
            "\u001b[?25hRequirement already satisfied: six in /usr/local/lib/python3.7/dist-packages (from anvil-uplink) (1.15.0)\n",
            "Requirement already satisfied: future in /usr/local/lib/python3.7/dist-packages (from anvil-uplink) (0.16.0)\n",
            "Collecting argparse\n",
            "  Downloading argparse-1.4.0-py2.py3-none-any.whl (23 kB)\n",
            "Building wheels for collected packages: ws4py\n",
            "  Building wheel for ws4py (setup.py) ... \u001b[?25l\u001b[?25hdone\n",
            "  Created wheel for ws4py: filename=ws4py-0.5.1-py3-none-any.whl size=45229 sha256=0c9009047316c347468e87fc7b03b035be4d94899cdbfa29a9bd8d513efa2ad7\n",
            "  Stored in directory: /root/.cache/pip/wheels/29/ea/7d/3410aa0aa0e4402ead9a7a97ab2214804887e0f5c2b76f0c96\n",
            "Successfully built ws4py\n",
            "Installing collected packages: ws4py, argparse, anvil-uplink\n",
            "Successfully installed anvil-uplink-0.3.42 argparse-1.4.0 ws4py-0.5.1\n"
          ]
        },
        {
          "output_type": "display_data",
          "data": {
            "application/vnd.colab-display-data+json": {
              "pip_warning": {
                "packages": [
                  "argparse",
                  "google"
                ]
              }
            }
          },
          "metadata": {}
        }
      ]
    },
    {
      "cell_type": "code",
      "source": [
        "!pip install pulp"
      ],
      "metadata": {
        "colab": {
          "base_uri": "https://localhost:8080/"
        },
        "id": "HLTkt31CFzj4",
        "outputId": "3c8dfb3b-d283-4ada-feed-132d9d111614"
      },
      "execution_count": null,
      "outputs": [
        {
          "output_type": "stream",
          "name": "stdout",
          "text": [
            "Collecting pulp\n",
            "  Downloading PuLP-2.6.0-py3-none-any.whl (14.2 MB)\n",
            "\u001b[K     |████████████████████████████████| 14.2 MB 4.7 MB/s \n",
            "\u001b[?25hInstalling collected packages: pulp\n",
            "Successfully installed pulp-2.6.0\n"
          ]
        }
      ]
    },
    {
      "cell_type": "code",
      "source": [
        "from pulp import *\n",
        "import numpy as np\n",
        "import pandas as pd\n",
        "import matplotlib.pyplot as plt\n",
        "%matplotlib inline\n",
        "import seaborn as sn"
      ],
      "metadata": {
        "id": "9QKQF6Q7Flbm"
      },
      "execution_count": null,
      "outputs": []
    },
    {
      "cell_type": "code",
      "source": [
        "#a handful of sites\n",
        "sites = ['Barcelona','Belgrade','Berlin','Brussels','Bucharest','Budapest','Copenhagen','Dublin','Hamburg','Istanbul','Kiev','London','Madrid','Milan','Moscow','Munich','Paris','Prague','Rome','Saint Petersburg','Sofia','Stockholm','Vienna','Warsaw']\n",
        "# sites = ['Barcelona','Belgrade','Berlin','Brussels','Bucharest','Budapest','Copenhagen']\n",
        "latlng = ['latitude', 'longitude']\n",
        "position = pd.read_csv('position.csv', index_col=\"City\")\n",
        "flighttime = pd.read_csv('flight_time.csv', index_col=\"City\")\n",
        "distance = pd.read_csv('distance.csv', index_col=\"City\")\n",
        "# position.head(5)\n",
        "# print(len(sites))"
      ],
      "metadata": {
        "id": "eXwxoMV8F6Hm"
      },
      "execution_count": null,
      "outputs": []
    },
    {
      "cell_type": "code",
      "source": [
        "#make some positions (so we can plot this)\n",
        "positions = dict( ( city, (position.loc[city, 'longitude'], position.loc[city, 'latitude']) ) for city in sites)"
      ],
      "metadata": {
        "id": "raFwYI-vHYiN"
      },
      "execution_count": null,
      "outputs": []
    },
    {
      "cell_type": "code",
      "source": [
        "for s in positions:\n",
        "    p = positions[s]\n",
        "    plt.plot(p[0],p[1],'o')\n",
        "    plt.text(p[0]+.01,p[1],s,horizontalalignment='left',verticalalignment='center')\n",
        "    \n",
        "plt.gca().axis('off');"
      ],
      "metadata": {
        "colab": {
          "base_uri": "https://localhost:8080/",
          "height": 248
        },
        "id": "-MIzq-v2HaNO",
        "outputId": "e7f16ba7-ba8f-4c4f-9210-cbd8efefa4fa"
      },
      "execution_count": null,
      "outputs": [
        {
          "output_type": "display_data",
          "data": {
            "text/plain": [
              "<Figure size 432x288 with 1 Axes>"
            ],
            "image/png": "[encoded data removed]"
          },
          "metadata": {
            "needs_background": "light"
          }
        }
      ]
    },
    {
      "cell_type": "code",
      "source": [
        "# get distanc between cities\n",
        "distances = dict( ((s1,s2), distance.loc[s1, s2]) for s1 in positions for s2 in positions if s1!=s2)"
      ],
      "metadata": {
        "id": "NbMx1rNhHist"
      },
      "execution_count": null,
      "outputs": []
    },
    {
      "cell_type": "code",
      "source": [
        "print(distances)"
      ],
      "metadata": {
        "colab": {
          "base_uri": "https://localhost:8080/"
        },
        "id": "wlgy_Az27BSu",
        "outputId": "66d9cc67-2976-4ef5-c6e6-8323f8cdd66a"
      },
      "execution_count": null,
      "outputs": [
        {
          "output_type": "stream",
          "name": "stdout",
          "text": [
            "{('Barcelona', 'Belgrade'): 1528.13, ('Barcelona', 'Berlin'): 1497.61, ('Barcelona', 'Brussels'): 1062.89, ('Barcelona', 'Bucharest'): 1968.42, ('Barcelona', 'Budapest'): 1498.79, ('Barcelona', 'Copenhagen'): 1757.54, ('Barcelona', 'Dublin'): 1469.29, ('Barcelona', 'Hamburg'): 1471.78, ('Barcelona', 'Istanbul'): 2230.42, ('Barcelona', 'Kiev'): 2391.06, ('Barcelona', 'London'): 1137.67, ('Barcelona', 'Madrid'): 504.64, ('Barcelona', 'Milan'): 725.12, ('Barcelona', 'Moscow'): 3006.93, ('Barcelona', 'Munich'): 1054.55, ('Barcelona', 'Paris'): 831.59, ('Barcelona', 'Prague'): 1353.9, ('Barcelona', 'Rome'): 856.69, ('Barcelona', 'Saint Petersburg'): 2813.02, ('Barcelona', 'Sofia'): 1745.55, ('Barcelona', 'Stockholm'): 2276.51, ('Barcelona', 'Vienna'): 1347.43, ('Barcelona', 'Warsaw'): 1862.33, ('Belgrade', 'Barcelona'): 1528.13, ('Belgrade', 'Berlin'): 999.25, ('Belgrade', 'Brussels'): 1372.59, ('Belgrade', 'Bucharest'): 447.34, ('Belgrade', 'Budapest'): 316.41, ('Belgrade', 'Copenhagen'): 1327.24, ('Belgrade', 'Dublin'): 2145.39, ('Belgrade', 'Hamburg'): 1229.93, ('Belgrade', 'Istanbul'): 809.48, ('Belgrade', 'Kiev'): 976.02, ('Belgrade', 'London'): 1688.97, ('Belgrade', 'Madrid'): 2026.94, ('Belgrade', 'Milan'): 885.32, ('Belgrade', 'Moscow'): 1710.99, ('Belgrade', 'Munich'): 773.33, ('Belgrade', 'Paris'): 1445.7, ('Belgrade', 'Prague'): 738.1, ('Belgrade', 'Rome'): 721.55, ('Belgrade', 'Saint Petersburg'): 1797.75, ('Belgrade', 'Sofia'): 329.46, ('Belgrade', 'Stockholm'): 1620.96, ('Belgrade', 'Vienna'): 489.28, ('Belgrade', 'Warsaw'): 826.66, ('Berlin', 'Barcelona'): 1497.61, ('Berlin', 'Belgrade'): 999.25, ('Berlin', 'Brussels'): 651.62, ('Berlin', 'Bucharest'): 1293.4, ('Berlin', 'Budapest'): 689.06, ('Berlin', 'Copenhagen'): 354.03, ('Berlin', 'Dublin'): 1315.16, ('Berlin', 'Hamburg'): 254.51, ('Berlin', 'Istanbul'): 1735.01, ('Berlin', 'Kiev'): 1204.0, ('Berlin', 'London'): 929.97, ('Berlin', 'Madrid'): 1867.69, ('Berlin', 'Milan'): 840.72, ('Berlin', 'Moscow'): 1607.99, ('Berlin', 'Munich'): 501.97, ('Berlin', 'Paris'): 876.96, ('Berlin', 'Prague'): 280.34, ('Berlin', 'Rome'): 1181.67, ('Berlin', 'Saint Petersburg'): 1319.62, ('Berlin', 'Sofia'): 1318.67, ('Berlin', 'Stockholm'): 810.38, ('Berlin', 'Vienna'): 523.61, ('Berlin', 'Warsaw'): 516.06, ('Brussels', 'Barcelona'): 1062.89, ('Brussels', 'Belgrade'): 1372.59, ('Brussels', 'Berlin'): 651.62, ('Brussels', 'Bucharest'): 1769.69, ('Brussels', 'Budapest'): 1131.52, ('Brussels', 'Copenhagen'): 766.67, ('Brussels', 'Dublin'): 773.2, ('Brussels', 'Hamburg'): 489.76, ('Brussels', 'Istanbul'): 2178.85, ('Brussels', 'Kiev'): 1836.2, ('Brussels', 'London'): 318.72, ('Brussels', 'Madrid'): 1314.3, ('Brussels', 'Milan'): 696.61, ('Brussels', 'Moscow'): 2253.26, ('Brussels', 'Munich'): 601.87, ('Brussels', 'Paris'): 261.29, ('Brussels', 'Prague'): 721.08, ('Brussels', 'Rome'): 1171.34, ('Brussels', 'Saint Petersburg'): 1903.66, ('Brussels', 'Sofia'): 1697.83, ('Brussels', 'Stockholm'): 1280.88, ('Brussels', 'Vienna'): 914.81, ('Brussels', 'Warsaw'): 1159.85, ('Bucharest', 'Barcelona'): 1968.42, ('Bucharest', 'Belgrade'): 447.34, ('Bucharest', 'Berlin'): 1293.4, ('Bucharest', 'Brussels'): 1769.69, ('Bucharest', 'Budapest'): 639.77, ('Bucharest', 'Copenhagen'): 1571.54, ('Bucharest', 'Dublin'): 2534.72, ('Bucharest', 'Hamburg'): 1544.17, ('Bucharest', 'Istanbul'): 445.62, ('Bucharest', 'Kiev'): 744.44, ('Bucharest', 'London'): 2088.42, ('Bucharest', 'Madrid'): 2469.71, ('Bucharest', 'Milan'): 1331.46, ('Bucharest', 'Moscow'): 1497.56, ('Bucharest', 'Munich'): 1186.37, ('Bucharest', 'Paris'): 1869.95, ('Bucharest', 'Prague'): 1076.82, ('Bucharest', 'Rome'): 1137.38, ('Bucharest', 'Saint Petersburg'): 1740.39, ('Bucharest', 'Sofia'): 296.68, ('Bucharest', 'Stockholm'): 1742.25, ('Bucharest', 'Vienna'): 855.32, ('Bucharest', 'Warsaw'): 946.12, ('Budapest', 'Barcelona'): 1498.79, ('Budapest', 'Belgrade'): 316.41, ('Budapest', 'Berlin'): 689.06, ('Budapest', 'Brussels'): 1131.52, ('Budapest', 'Bucharest'): 639.77, ('Budapest', 'Copenhagen'): 1011.31, ('Budapest', 'Dublin'): 1894.95, ('Budapest', 'Hamburg'): 927.92, ('Budapest', 'Istanbul'): 1064.76, ('Budapest', 'Kiev'): 894.29, ('Budapest', 'London'): 1450.12, ('Budapest', 'Madrid'): 1975.38, ('Budapest', 'Milan'): 788.56, ('Budapest', 'Moscow'): 1565.19, ('Budapest', 'Munich'): 563.93, ('Budapest', 'Paris'): 1247.61, ('Budapest', 'Prague'): 443.26, ('Budapest', 'Rome'): 811.11, ('Budapest', 'Saint Petersburg'): 1556.51, ('Budapest', 'Sofia'): 629.63, ('Budapest', 'Stockholm'): 1316.59, ('Budapest', 'Vienna'): 216.98, ('Budapest', 'Warsaw'): 545.29, ('Copenhagen', 'Barcelona'): 1757.54, ('Copenhagen', 'Belgrade'): 1327.24, ('Copenhagen', 'Berlin'): 354.03, ('Copenhagen', 'Brussels'): 766.67, ('Copenhagen', 'Bucharest'): 1571.54, ('Copenhagen', 'Budapest'): 1011.31, ('Copenhagen', 'Dublin'): 1238.38, ('Copenhagen', 'Hamburg'): 287.97, ('Copenhagen', 'Istanbul'): 2017.17, ('Copenhagen', 'Kiev'): 1326.33, ('Copenhagen', 'London'): 955.13, ('Copenhagen', 'Madrid'): 2071.75, ('Copenhagen', 'Milan'): 1157.89, ('Copenhagen', 'Moscow'): 1558.52, ('Copenhagen', 'Munich'): 838.0, ('Copenhagen', 'Paris'): 1025.9, ('Copenhagen', 'Prague'): 633.05, ('Copenhagen', 'Rome'): 1529.69, ('Copenhagen', 'Saint Petersburg'): 1143.4, ('Copenhagen', 'Sofia'): 1635.54, ('Copenhagen', 'Stockholm'): 521.68, ('Copenhagen', 'Vienna'): 868.87, ('Copenhagen', 'Warsaw'): 667.8, ('Dublin', 'Barcelona'): 1469.29, ('Dublin', 'Belgrade'): 2145.39, ('Dublin', 'Berlin'): 1315.16, ('Dublin', 'Brussels'): 773.2, ('Dublin', 'Bucharest'): 2534.72, ('Dublin', 'Budapest'): 1894.95, ('Dublin', 'Copenhagen'): 1238.38, ('Dublin', 'Hamburg'): 1073.36, ('Dublin', 'Istanbul'): 2950.11, ('Dublin', 'Kiev'): 2513.69, ('Dublin', 'London'): 462.6, ('Dublin', 'Madrid'): 1449.96, ('Dublin', 'Milan'): 1413.37, ('Dublin', 'Moscow'): 2792.41, ('Dublin', 'Munich'): 1374.91, ('Dublin', 'Paris'): 776.83, ('Dublin', 'Prague'): 1465.61, ('Dublin', 'Rome'): 1882.22, ('Dublin', 'Saint Petersburg'): 2314.19, ('Dublin', 'Sofia'): 2471.02, ('Dublin', 'Stockholm'): 1626.56, ('Dublin', 'Vienna'): 1680.0, ('Dublin', 'Warsaw'): 1823.72, ('Hamburg', 'Barcelona'): 1471.78, ('Hamburg', 'Belgrade'): 1229.93, ('Hamburg', 'Berlin'): 254.51, ('Hamburg', 'Brussels'): 489.76, ('Hamburg', 'Bucharest'): 1544.17, ('Hamburg', 'Budapest'): 927.92, ('Hamburg', 'Copenhagen'): 287.97, ('Hamburg', 'Dublin'): 1073.36, ('Hamburg', 'Istanbul'): 1983.75, ('Hamburg', 'Kiev'): 1440.34, ('Hamburg', 'London'): 720.12, ('Hamburg', 'Madrid'): 1785.33, ('Hamburg', 'Milan'): 900.01, ('Hamburg', 'Moscow'): 1779.93, ('Hamburg', 'Munich'): 610.17, ('Hamburg', 'Paris'): 744.63, ('Hamburg', 'Prague'): 492.25, ('Hamburg', 'Rome'): 1307.51, ('Hamburg', 'Saint Petersburg'): 1414.16, ('Hamburg', 'Sofia'): 1554.82, ('Hamburg', 'Stockholm'): 809.65, ('Hamburg', 'Vienna'): 742.79, ('Hamburg', 'Warsaw'): 750.49, ('Istanbul', 'Barcelona'): 2230.42, ('Istanbul', 'Belgrade'): 809.48, ('Istanbul', 'Berlin'): 1735.01, ('Istanbul', 'Brussels'): 2178.85, ('Istanbul', 'Bucharest'): 445.62, ('Istanbul', 'Budapest'): 1064.76, ('Istanbul', 'Copenhagen'): 2017.17, ('Istanbul', 'Dublin'): 2950.11, ('Istanbul', 'Hamburg'): 1983.75, ('Istanbul', 'Kiev'): 1052.95, ('Istanbul', 'London'): 2496.39, ('Istanbul', 'Madrid'): 2734.6, ('Istanbul', 'Milan'): 1669.43, ('Istanbul', 'Moscow'): 1753.97, ('Istanbul', 'Munich'): 1582.16, ('Istanbul', 'Paris'): 2253.98, ('Istanbul', 'Prague'): 1507.55, ('Istanbul', 'Rome'): 1373.81, ('Istanbul', 'Saint Petersburg'): 2099.29, ('Istanbul', 'Sofia'): 502.61, ('Istanbul', 'Stockholm'): 2171.65, ('Istanbul', 'Vienna'): 1273.88, ('Istanbul', 'Warsaw'): 1386.08, ('Kiev', 'Barcelona'): 2391.06, ('Kiev', 'Belgrade'): 976.02, ('Kiev', 'Berlin'): 1204.0, ('Kiev', 'Brussels'): 1836.2, ('Kiev', 'Bucharest'): 744.44, ('Kiev', 'Budapest'): 894.29, ('Kiev', 'Copenhagen'): 1326.33, ('Kiev', 'Dublin'): 2513.69, ('Kiev', 'Hamburg'): 1440.34, ('Kiev', 'Istanbul'): 1052.95, ('Kiev', 'London'): 2131.2, ('Kiev', 'Madrid'): 2859.32, ('Kiev', 'Milan'): 1672.69, ('Kiev', 'Moscow'): 756.61, ('Kiev', 'Munich'): 1391.36, ('Kiev', 'Paris'): 2022.76, ('Kiev', 'Prague'): 1138.61, ('Kiev', 'Rome'): 1673.74, ('Kiev', 'Saint Petersburg'): 1051.39, ('Kiev', 'Sofia'): 1020.76, ('Kiev', 'Stockholm'): 1265.79, ('Kiev', 'Vienna'): 1052.76, ('Kiev', 'Warsaw'): 690.12, ('London', 'Barcelona'): 1137.67, ('London', 'Belgrade'): 1688.97, ('London', 'Berlin'): 929.97, ('London', 'Brussels'): 318.72, ('London', 'Bucharest'): 2088.42, ('London', 'Budapest'): 1450.12, ('London', 'Copenhagen'): 955.13, ('London', 'Dublin'): 462.6, ('London', 'Hamburg'): 720.12, ('London', 'Istanbul'): 2496.39, ('London', 'Kiev'): 2131.2, ('London', 'Madrid'): 1263.37, ('London', 'Milan'): 957.91, ('London', 'Moscow'): 2498.32, ('London', 'Munich'): 916.23, ('London', 'Paris'): 340.55, ('London', 'Prague'): 1034.57, ('London', 'Rome'): 1431.21, ('London', 'Saint Petersburg'): 2093.69, ('London', 'Sofia'): 2012.7, ('London', 'Stockholm'): 1431.07, ('London', 'Vienna'): 1233.48, ('London', 'Warsaw'): 1445.85, ('Madrid', 'Barcelona'): 504.64, ('Madrid', 'Belgrade'): 2026.94, ('Madrid', 'Berlin'): 1867.69, ('Madrid', 'Brussels'): 1314.3, ('Madrid', 'Bucharest'): 2469.71, ('Madrid', 'Budapest'): 1975.38, ('Madrid', 'Copenhagen'): 2071.75, ('Madrid', 'Dublin'): 1449.96, ('Madrid', 'Hamburg'): 1785.33, ('Madrid', 'Istanbul'): 2734.6, ('Madrid', 'Kiev'): 2859.32, ('Madrid', 'London'): 1263.37, ('Madrid', 'Milan'): 1187.73, ('Madrid', 'Moscow'): 3437.7, ('Madrid', 'Munich'): 1484.53, ('Madrid', 'Paris'): 1053.4, ('Madrid', 'Prague'): 1773.73, ('Madrid', 'Rome'): 1360.8, ('Madrid', 'Saint Petersburg'): 3183.43, ('Madrid', 'Sofia'): 2250.1, ('Madrid', 'Stockholm'): 2591.53, ('Madrid', 'Vienna'): 1807.09, ('Madrid', 'Warsaw'): 2288.42, ('Milan', 'Barcelona'): 725.12, ('Milan', 'Belgrade'): 885.32, ('Milan', 'Berlin'): 840.72, ('Milan', 'Brussels'): 696.61, ('Milan', 'Bucharest'): 1331.46, ('Milan', 'Budapest'): 788.56, ('Milan', 'Copenhagen'): 1157.89, ('Milan', 'Dublin'): 1413.37, ('Milan', 'Hamburg'): 900.01, ('Milan', 'Istanbul'): 1669.43, ('Milan', 'Kiev'): 1672.69, ('Milan', 'London'): 957.91, ('Milan', 'Madrid'): 1187.73, ('Milan', 'Moscow'): 2283.19, ('Milan', 'Munich'): 348.89, ('Milan', 'Paris'): 641.31, ('Milan', 'Prague'): 646.04, ('Milan', 'Rome'): 476.0, ('Milan', 'Saint Petersburg'): 2122.15, ('Milan', 'Sofia'): 1166.83, ('Milan', 'Stockholm'): 1650.12, ('Milan', 'Vienna'): 623.36, ('Milan', 'Warsaw'): 1143.01, ('Moscow', 'Barcelona'): 3006.93, ('Moscow', 'Belgrade'): 1710.99, ('Moscow', 'Berlin'): 1607.99, ('Moscow', 'Brussels'): 2253.26, ('Moscow', 'Bucharest'): 1497.56, ('Moscow', 'Budapest'): 1565.19, ('Moscow', 'Copenhagen'): 1558.52, ('Moscow', 'Dublin'): 2792.41, ('Moscow', 'Hamburg'): 1779.93, ('Moscow', 'Istanbul'): 1753.97, ('Moscow', 'Kiev'): 756.61, ('Moscow', 'London'): 2498.32, ('Moscow', 'Madrid'): 3437.7, ('Moscow', 'Milan'): 2283.19, ('Moscow', 'Munich'): 1957.15, ('Moscow', 'Paris'): 2484.92, ('Moscow', 'Prague'): 1664.04, ('Moscow', 'Rome'): 2374.26, ('Moscow', 'Saint Petersburg'): 632.59, ('Moscow', 'Sofia'): 1777.35, ('Moscow', 'Stockholm'): 1227.38, ('Moscow', 'Vienna'): 1669.22, ('Moscow', 'Warsaw'): 1149.41, ('Munich', 'Barcelona'): 1054.55, ('Munich', 'Belgrade'): 773.33, ('Munich', 'Berlin'): 501.97, ('Munich', 'Brussels'): 601.87, ('Munich', 'Bucharest'): 1186.37, ('Munich', 'Budapest'): 563.93, ('Munich', 'Copenhagen'): 838.0, ('Munich', 'Dublin'): 1374.91, ('Munich', 'Hamburg'): 610.17, ('Munich', 'Istanbul'): 1582.16, ('Munich', 'Kiev'): 1391.36, ('Munich', 'London'): 916.23, ('Munich', 'Madrid'): 1484.53, ('Munich', 'Milan'): 348.89, ('Munich', 'Moscow'): 1957.15, ('Munich', 'Paris'): 685.14, ('Munich', 'Prague'): 300.16, ('Munich', 'Rome'): 698.04, ('Munich', 'Saint Petersburg'): 1773.83, ('Munich', 'Sofia'): 1096.54, ('Munich', 'Stockholm'): 1311.8, ('Munich', 'Vienna'): 354.42, ('Munich', 'Warsaw'): 809.02, ('Paris', 'Barcelona'): 831.59, ('Paris', 'Belgrade'): 1445.7, ('Paris', 'Berlin'): 876.96, ('Paris', 'Brussels'): 261.29, ('Paris', 'Bucharest'): 1869.95, ('Paris', 'Budapest'): 1247.61, ('Paris', 'Copenhagen'): 1025.9, ('Paris', 'Dublin'): 776.83, ('Paris', 'Hamburg'): 744.63, ('Paris', 'Istanbul'): 2253.98, ('Paris', 'Kiev'): 2022.76, ('Paris', 'London'): 340.55, ('Paris', 'Madrid'): 1053.4, ('Paris', 'Milan'): 641.31, ('Paris', 'Moscow'): 2484.92, ('Paris', 'Munich'): 685.14, ('Paris', 'Prague'): 885.38, ('Paris', 'Rome'): 1105.76, ('Paris', 'Saint Petersburg'): 2157.99, ('Paris', 'Sofia'): 1758.03, ('Paris', 'Stockholm'): 1541.83, ('Paris', 'Vienna'): 1033.73, ('Paris', 'Warsaw'): 1365.91, ('Prague', 'Barcelona'): 1353.9, ('Prague', 'Belgrade'): 738.1, ('Prague', 'Berlin'): 280.34, ('Prague', 'Brussels'): 721.08, ('Prague', 'Bucharest'): 1076.82, ('Prague', 'Budapest'): 443.26, ('Prague', 'Copenhagen'): 633.05, ('Prague', 'Dublin'): 1465.61, ('Prague', 'Hamburg'): 492.25, ('Prague', 'Istanbul'): 1507.55, ('Prague', 'Kiev'): 1138.61, ('Prague', 'London'): 1034.57, ('Prague', 'Madrid'): 1773.73, ('Prague', 'Milan'): 646.04, ('Prague', 'Moscow'): 1664.04, ('Prague', 'Munich'): 300.16, ('Prague', 'Paris'): 885.38, ('Prague', 'Rome'): 922.0, ('Prague', 'Saint Petersburg'): 1476.73, ('Prague', 'Sofia'): 1064.43, ('Prague', 'Stockholm'): 1052.85, ('Prague', 'Vienna'): 250.71, ('Prague', 'Warsaw'): 514.69, ('Rome', 'Barcelona'): 856.69, ('Rome', 'Belgrade'): 721.55, ('Rome', 'Berlin'): 1181.67, ('Rome', 'Brussels'): 1171.34, ('Rome', 'Bucharest'): 1137.38, ('Rome', 'Budapest'): 811.11, ('Rome', 'Copenhagen'): 1529.69, ('Rome', 'Dublin'): 1882.22, ('Rome', 'Hamburg'): 1307.51, ('Rome', 'Istanbul'): 1373.81, ('Rome', 'Kiev'): 1673.74, ('Rome', 'London'): 1431.21, ('Rome', 'Madrid'): 1360.8, ('Rome', 'Milan'): 476.0, ('Rome', 'Moscow'): 2374.26, ('Rome', 'Munich'): 698.04, ('Rome', 'Paris'): 1105.76, ('Rome', 'Prague'): 922.0, ('Rome', 'Saint Petersburg'): 2339.22, ('Rome', 'Sofia'): 894.06, ('Rome', 'Stockholm'): 1974.79, ('Rome', 'Vienna'): 763.26, ('Rome', 'Warsaw'): 1316.24, ('Saint Petersburg', 'Barcelona'): 2813.02, ('Saint Petersburg', 'Belgrade'): 1797.75, ('Saint Petersburg', 'Berlin'): 1319.62, ('Saint Petersburg', 'Brussels'): 1903.66, ('Saint Petersburg', 'Bucharest'): 1740.39, ('Saint Petersburg', 'Budapest'): 1556.51, ('Saint Petersburg', 'Copenhagen'): 1143.4, ('Saint Petersburg', 'Dublin'): 2314.19, ('Saint Petersburg', 'Hamburg'): 1414.16, ('Saint Petersburg', 'Istanbul'): 2099.29, ('Saint Petersburg', 'Kiev'): 1051.39, ('Saint Petersburg', 'London'): 2093.69, ('Saint Petersburg', 'Madrid'): 3183.43, ('Saint Petersburg', 'Milan'): 2122.15, ('Saint Petersburg', 'Moscow'): 632.59, ('Saint Petersburg', 'Munich'): 1773.83, ('Saint Petersburg', 'Paris'): 2157.99, ('Saint Petersburg', 'Prague'): 1476.73, ('Saint Petersburg', 'Rome'): 2339.22, ('Saint Petersburg', 'Sofia'): 1969.82, ('Saint Petersburg', 'Stockholm'): 688.33, ('Saint Petersburg', 'Vienna'): 1577.56, ('Saint Petersburg', 'Warsaw'): 1023.41, ('Sofia', 'Barcelona'): 1745.55, ('Sofia', 'Belgrade'): 329.46, ('Sofia', 'Berlin'): 1318.67, ('Sofia', 'Brussels'): 1697.83, ('Sofia', 'Bucharest'): 296.68, ('Sofia', 'Budapest'): 629.63, ('Sofia', 'Copenhagen'): 1635.54, ('Sofia', 'Dublin'): 2471.02, ('Sofia', 'Hamburg'): 1554.82, ('Sofia', 'Istanbul'): 502.61, ('Sofia', 'Kiev'): 1020.76, ('Sofia', 'London'): 2012.7, ('Sofia', 'Madrid'): 2250.1, ('Sofia', 'Milan'): 1166.83, ('Sofia', 'Moscow'): 1777.35, ('Sofia', 'Munich'): 1096.54, ('Sofia', 'Paris'): 1758.03, ('Sofia', 'Prague'): 1064.43, ('Sofia', 'Rome'): 894.06, ('Sofia', 'Saint Petersburg'): 1969.82, ('Sofia', 'Stockholm'): 1884.91, ('Sofia', 'Vienna'): 817.45, ('Sofia', 'Warsaw'): 1076.99, ('Stockholm', 'Barcelona'): 2276.51, ('Stockholm', 'Belgrade'): 1620.96, ('Stockholm', 'Berlin'): 810.38, ('Stockholm', 'Brussels'): 1280.88, ('Stockholm', 'Bucharest'): 1742.25, ('Stockholm', 'Budapest'): 1316.59, ('Stockholm', 'Copenhagen'): 521.68, ('Stockholm', 'Dublin'): 1626.56, ('Stockholm', 'Hamburg'): 809.65, ('Stockholm', 'Istanbul'): 2171.65, ('Stockholm', 'Kiev'): 1265.79, ('Stockholm', 'London'): 1431.07, ('Stockholm', 'Madrid'): 2591.53, ('Stockholm', 'Milan'): 1650.12, ('Stockholm', 'Moscow'): 1227.38, ('Stockholm', 'Munich'): 1311.8, ('Stockholm', 'Paris'): 1541.83, ('Stockholm', 'Prague'): 1052.85, ('Stockholm', 'Rome'): 1974.79, ('Stockholm', 'Saint Petersburg'): 688.33, ('Stockholm', 'Sofia'): 1884.91, ('Stockholm', 'Vienna'): 1241.9, ('Stockholm', 'Warsaw'): 808.14, ('Vienna', 'Barcelona'): 1347.43, ('Vienna', 'Belgrade'): 489.28, ('Vienna', 'Berlin'): 523.61, ('Vienna', 'Brussels'): 914.81, ('Vienna', 'Bucharest'): 855.32, ('Vienna', 'Budapest'): 216.98, ('Vienna', 'Copenhagen'): 868.87, ('Vienna', 'Dublin'): 1680.0, ('Vienna', 'Hamburg'): 742.79, ('Vienna', 'Istanbul'): 1273.88, ('Vienna', 'Kiev'): 1052.76, ('Vienna', 'London'): 1233.48, ('Vienna', 'Madrid'): 1807.09, ('Vienna', 'Milan'): 623.36, ('Vienna', 'Moscow'): 1669.22, ('Vienna', 'Munich'): 354.42, ('Vienna', 'Paris'): 1033.73, ('Vienna', 'Prague'): 250.71, ('Vienna', 'Rome'): 763.26, ('Vienna', 'Saint Petersburg'): 1577.56, ('Vienna', 'Sofia'): 817.45, ('Vienna', 'Stockholm'): 1241.9, ('Vienna', 'Warsaw'): 557.43, ('Warsaw', 'Barcelona'): 1862.33, ('Warsaw', 'Belgrade'): 826.66, ('Warsaw', 'Berlin'): 516.06, ('Warsaw', 'Brussels'): 1159.85, ('Warsaw', 'Bucharest'): 946.12, ('Warsaw', 'Budapest'): 545.29, ('Warsaw', 'Copenhagen'): 667.8, ('Warsaw', 'Dublin'): 1823.72, ('Warsaw', 'Hamburg'): 750.49, ('Warsaw', 'Istanbul'): 1386.08, ('Warsaw', 'Kiev'): 690.12, ('Warsaw', 'London'): 1445.85, ('Warsaw', 'Madrid'): 2288.42, ('Warsaw', 'Milan'): 1143.01, ('Warsaw', 'Moscow'): 1149.41, ('Warsaw', 'Munich'): 809.02, ('Warsaw', 'Paris'): 1365.91, ('Warsaw', 'Prague'): 514.69, ('Warsaw', 'Rome'): 1316.24, ('Warsaw', 'Saint Petersburg'): 1023.41, ('Warsaw', 'Sofia'): 1076.99, ('Warsaw', 'Stockholm'): 808.14, ('Warsaw', 'Vienna'): 557.43}\n"
          ]
        }
      ]
    },
    {
      "cell_type": "code",
      "source": [
        "K = 3 #the number of vehicles "
      ],
      "metadata": {
        "id": "8WwXPFjAHlnt"
      },
      "execution_count": null,
      "outputs": []
    },
    {
      "cell_type": "code",
      "source": [
        "#create the problem\n",
        "prob=LpProblem(\"vehicle\", LpMinimize)"
      ],
      "metadata": {
        "id": "3ONH8JG7Hppd"
      },
      "execution_count": null,
      "outputs": []
    },
    {
      "cell_type": "code",
      "source": [
        "#indicator variable if site i is connected to site j in the tour\n",
        "x = LpVariable.dicts('x',distances, 0,1,LpBinary)\n",
        "#dummy vars to eliminate subtours\n",
        "u = LpVariable.dicts('u', sites, 0, len(sites)-1, LpInteger)"
      ],
      "metadata": {
        "id": "Woy7R5kJHtEb"
      },
      "execution_count": null,
      "outputs": []
    },
    {
      "cell_type": "code",
      "source": [
        "#the objective\n",
        "cost = lpSum([x[(i,j)]*distances[(i,j)] for (i,j) in distances])\n",
        "prob+=cost"
      ],
      "metadata": {
        "id": "QQl76zc4HwME"
      },
      "execution_count": null,
      "outputs": []
    },
    {
      "cell_type": "code",
      "source": [
        "start_location = sites[int(input(\"Enter start location (departure) 1-23: \"))] # start"
      ],
      "metadata": {
        "colab": {
          "base_uri": "https://localhost:8080/"
        },
        "id": "LtuU3P_9vuph",
        "outputId": "3f5d2650-1483-4b14-d488-9033d3512722"
      },
      "execution_count": 121,
      "outputs": [
        {
          "name": "stdout",
          "output_type": "stream",
          "text": [
            "Enter start location (departure) 1-23: 4\n"
          ]
        }
      ]
    },
    {
      "cell_type": "code",
      "source": [
        "start_location"
      ],
      "metadata": {
        "colab": {
          "base_uri": "https://localhost:8080/",
          "height": 36
        },
        "id": "fFoJ2u8Nw789",
        "outputId": "d34267ec-072b-4a68-9cad-3afacf2ea9bc"
      },
      "execution_count": 122,
      "outputs": [
        {
          "output_type": "execute_result",
          "data": {
            "text/plain": [
              "'Bucharest'"
            ],
            "application/vnd.google.colaboratory.intrinsic+json": {
              "type": "string"
            }
          },
          "metadata": {},
          "execution_count": 122
        }
      ]
    },
    {
      "cell_type": "code",
      "source": [
        "#constraints\n",
        "for k in sites:\n",
        "    cap = 1 if k != start_location else K\n",
        "    #inbound connection\n",
        "    prob+= lpSum([ x[(i,k)] for i in sites if (i,k) in x]) ==cap\n",
        "    #outbound connection\n",
        "    prob+=lpSum([ x[(k,i)] for i in sites if (k,i) in x]) ==cap\n",
        "    \n",
        "#subtour elimination\n",
        "N=len(sites)/K\n",
        "for i in sites:\n",
        "    for j in sites:\n",
        "        if i != j and (i != start_location and j!= start_location) and (i,j) in x:\n",
        "            prob += u[i] - u[j] <= (N)*(1-x[(i,j)]) - 1"
      ],
      "metadata": {
        "id": "ER9yWMImHyhk"
      },
      "execution_count": null,
      "outputs": []
    },
    {
      "cell_type": "code",
      "source": [
        "non_zero_edges = [ e for e in x if value(x[e]) != 0 ]\n",
        "\n",
        "# def get_next_site(parent):\n",
        "#     '''helper function to get the next edge'''\n",
        "#     edges = [e for e in non_zero_edges if e[0]==parent]\n",
        "#     for e in edges:\n",
        "#         non_zero_edges.remove(e)\n",
        "#     return edges\n",
        "\n",
        "def get_next_site(parent):\n",
        "    '''helper function to get the next edge'''\n",
        "    edges = [e for e in non_zero_edges if e[0]==parent]\n",
        "    for e in edges:\n",
        "        non_zero_edges.remove(e)\n",
        "    return edges\n",
        "\n",
        "tours = get_next_site(start_location)"
      ],
      "metadata": {
        "id": "a4jtXRxeInV5"
      },
      "execution_count": null,
      "outputs": []
    },
    {
      "cell_type": "code",
      "source": [
        "tours"
      ],
      "metadata": {
        "colab": {
          "base_uri": "https://localhost:8080/"
        },
        "id": "ccQwqEIayqZg",
        "outputId": "d76306b8-9b9d-47ea-a167-8a793a7b984d"
      },
      "execution_count": null,
      "outputs": [
        {
          "output_type": "execute_result",
          "data": {
            "text/plain": [
              "[('Madrid', 'Barcelona'),\n",
              " ('Madrid', 'Belgrade'),\n",
              " ('Madrid', 'Berlin'),\n",
              " ('Madrid', 'Brussels'),\n",
              " ('Madrid', 'Bucharest'),\n",
              " ('Madrid', 'Budapest'),\n",
              " ('Madrid', 'Copenhagen'),\n",
              " ('Madrid', 'Dublin'),\n",
              " ('Madrid', 'Hamburg'),\n",
              " ('Madrid', 'Istanbul'),\n",
              " ('Madrid', 'Kiev'),\n",
              " ('Madrid', 'London'),\n",
              " ('Madrid', 'Milan'),\n",
              " ('Madrid', 'Moscow'),\n",
              " ('Madrid', 'Munich'),\n",
              " ('Madrid', 'Paris'),\n",
              " ('Madrid', 'Prague'),\n",
              " ('Madrid', 'Rome'),\n",
              " ('Madrid', 'Saint Petersburg'),\n",
              " ('Madrid', 'Sofia'),\n",
              " ('Madrid', 'Stockholm'),\n",
              " ('Madrid', 'Vienna'),\n",
              " ('Madrid', 'Warsaw')]"
            ]
          },
          "metadata": {},
          "execution_count": 95
        }
      ]
    },
    {
      "cell_type": "code",
      "source": [
        "tours = [ [e] for e in tours ]\n",
        "\n",
        "for t in tours:\n",
        "    while t[0][0] !=start_location:\n",
        "        t.append(get_next_site(t[0][1])[0])"
      ],
      "metadata": {
        "id": "9ZlIPnuUIzJ-"
      },
      "execution_count": null,
      "outputs": []
    },
    {
      "cell_type": "code",
      "source": [
        "user_location = int(input(\"Enter the desired location(1 - 23)\")) # destination"
      ],
      "metadata": {
        "colab": {
          "base_uri": "https://localhost:8080/"
        },
        "id": "0fOIRSyQZG9x",
        "outputId": "0657a350-c3f1-4c0d-c429-7075d0dcbbb0"
      },
      "execution_count": 115,
      "outputs": [
        {
          "name": "stdout",
          "output_type": "stream",
          "text": [
            "Enter the desired location(1 - 23)1\n"
          ]
        }
      ]
    },
    {
      "cell_type": "code",
      "source": [
        "print(' -> '.join([ b for a,b in tours[user_location - 1]]+[start_location]))\n",
        "# print(' -> '.join([tours[user_location-1]]+['Berlin']))"
      ],
      "metadata": {
        "colab": {
          "base_uri": "https://localhost:8080/"
        },
        "id": "LwWXiAYMZQjJ",
        "outputId": "61729bec-561f-4f54-df76-b4d1c56de75e"
      },
      "execution_count": 116,
      "outputs": [
        {
          "output_type": "stream",
          "name": "stdout",
          "text": [
            "Barcelona -> Madrid\n"
          ]
        }
      ]
    },
    {
      "cell_type": "code",
      "source": [
        "totalTime = 0;\n",
        "import random\n",
        "climate_issues = input(\"climate issues? \")\n",
        "climate_factor = 0\n",
        "if climate_issues == \"y\":\n",
        "  severity = int(input(\"Severity? 5-20 \"))\n",
        "  climate_issues = random.randint(5,severity)\n",
        "elif climate_issues == \"n\":\n",
        "  climate_issues = 0\n",
        "  print(\"You are set to go!!!\")\n",
        "  \n",
        "  \n",
        "for t in tours:\n",
        "    time = 0\n",
        "    for i in range(0, len(t)):\n",
        "        time += flighttime.loc[t[i][0], t[i][1]] + climate_issues\n",
        "#         print(flighttime.loc[t[i][0], t[i][1]])\n",
        "#     print(time)\n",
        "    if time > totalTime:\n",
        "        totalTime = time\n",
        "print(totalTime)"
      ],
      "metadata": {
        "colab": {
          "base_uri": "https://localhost:8080/"
        },
        "id": "YYhkX2bIbLkL",
        "outputId": "3b2d6bee-e860-4921-d9fb-85969dcb49d9"
      },
      "execution_count": 117,
      "outputs": [
        {
          "output_type": "stream",
          "name": "stdout",
          "text": [
            "climate issues? y\n",
            "Severity? 5-20 5\n",
            "578\n"
          ]
        }
      ]
    },
    {
      "cell_type": "code",
      "source": [
        "# print(distance[tours[user_location-1]])\n",
        "import pandas as pd\n",
        "df = pd.DataFrame(distance)\n",
        "total_distance = df.iat[user_location-1 , 2]\n",
        "print(total_distance)"
      ],
      "metadata": {
        "colab": {
          "base_uri": "https://localhost:8080/"
        },
        "id": "ntvKW1Q3fMuG",
        "outputId": "6219df6c-a948-43bf-f285-ed4d73129b5e"
      },
      "execution_count": 118,
      "outputs": [
        {
          "output_type": "stream",
          "name": "stdout",
          "text": [
            "1497.61\n"
          ]
        }
      ]
    },
    {
      "cell_type": "code",
      "source": [
        "destination = tours[user_location-1][0][1]\n",
        "destination"
      ],
      "metadata": {
        "colab": {
          "base_uri": "https://localhost:8080/",
          "height": 36
        },
        "id": "OMGPnA2xAIS9",
        "outputId": "84bacd68-83c0-4812-cf5c-289168cd114c"
      },
      "execution_count": 128,
      "outputs": [
        {
          "output_type": "execute_result",
          "data": {
            "text/plain": [
              "'Barcelona'"
            ],
            "application/vnd.google.colaboratory.intrinsic+json": {
              "type": "string"
            }
          },
          "metadata": {},
          "execution_count": 128
        }
      ]
    },
    {
      "cell_type": "code",
      "source": [
        "tours[user_location]\n",
        "destination"
      ],
      "metadata": {
        "colab": {
          "base_uri": "https://localhost:8080/",
          "height": 36
        },
        "id": "xmWvn3I8-hOX",
        "outputId": "1f0726a1-6ba6-4fa2-861e-07353fe0074e"
      },
      "execution_count": 129,
      "outputs": [
        {
          "output_type": "execute_result",
          "data": {
            "text/plain": [
              "'Barcelona'"
            ],
            "application/vnd.google.colaboratory.intrinsic+json": {
              "type": "string"
            }
          },
          "metadata": {},
          "execution_count": 129
        }
      ]
    },
    {
      "cell_type": "code",
      "source": [
        "#draw the tours\n",
        "colors = [np.random.rand(3) for i in range(len(tours))]\n",
        "for t,c in zip(tours,colors):\n",
        "    for a,b in t:\n",
        "        p1,p2 = positions[a], positions[b]\n",
        "        plt.plot([p1[0],p2[0]],[p1[1],p2[1]], color=c)\n",
        "\n",
        "#draw the map again\n",
        "for s in positions:\n",
        "    p = positions[s]\n",
        "    plt.plot(p[0],p[1],'o')\n",
        "    if s==start_location or s==destination:\n",
        "      plt.text(p[0]+.01,p[1],s.upper(),horizontalalignment='left',verticalalignment='center')\n",
        "    else:\n",
        "      plt.text(p[0]+.01,p[1],s,horizontalalignment='left',verticalalignment='center')\n",
        "    \n",
        "plt.title('%d '%K + 'people' if K > 1 else 'person')\n",
        "plt.xlabel('latitude')\n",
        "plt.ylabel('longitude')\n",
        "# plt.gca().axis('off')\n",
        "plt.show()"
      ],
      "metadata": {
        "colab": {
          "base_uri": "https://localhost:8080/",
          "height": 295
        },
        "id": "zacvCEdIJDXk",
        "outputId": "270bcccf-f0a6-42dc-82a8-ccf1f8c7af37"
      },
      "execution_count": 130,
      "outputs": [
        {
          "output_type": "display_data",
          "data": {
            "text/plain": [
              "<Figure size 432x288 with 1 Axes>"
            ],
            "image/png": "[encoded data removed]"
          },
          "metadata": {
            "needs_background": "light"
          }
        }
      ]
    },
    {
      "cell_type": "code",
      "source": [
        "print('Longest time spent:', totalTime, '(min)')\n",
        "print('Total distance:', total_distance, '(km)')"
      ],
      "metadata": {
        "colab": {
          "base_uri": "https://localhost:8080/"
        },
        "id": "h-UjtpjmJGbz",
        "outputId": "81ee266c-a0c8-4650-e5e9-032b3e7574f4"
      },
      "execution_count": null,
      "outputs": [
        {
          "output_type": "stream",
          "name": "stdout",
          "text": [
            "Longest time spent: 578 (min)\n",
            "Total distance: 1497.61 (km)\n"
          ]
        }
      ]
    },
    {
      "cell_type": "code",
      "source": [
        "# prob.objective"
      ],
      "metadata": {
        "id": "mafcCyjR2Xe1"
      },
      "execution_count": null,
      "outputs": []
    },
    {
      "cell_type": "code",
      "source": [
        "import anvil.server\n",
        "\n",
        "anvil.server.connect('JWD6HZTVVR5YSZW233D5CHN4-KGNOLUKNQ3RT2S6C')"
      ],
      "metadata": {
        "id": "mHNCMsvV6Dlo",
        "colab": {
          "base_uri": "https://localhost:8080/"
        },
        "outputId": "b6109eb3-4fe1-4d5a-8b52-99d457654fb5"
      },
      "execution_count": null,
      "outputs": [
        {
          "output_type": "stream",
          "name": "stdout",
          "text": [
            "Connecting to wss://anvil.works/uplink\n",
            "Anvil websocket open\n",
            "Connected to \"Default environment\" as SERVER\n"
          ]
        }
      ]
    },
    {
      "cell_type": "code",
      "source": [
        "@anvil.server.callable\n",
        "def calculate_time(climatic_issues):\n",
        "  totalTime = 0;\n",
        "  import random\n",
        "  climate_factor = 0\n",
        "  climateissues = int(climatic_issues)\n",
        "  for t in tours:\n",
        "    time = 0\n",
        "    for i in range(0, len(t)):\n",
        "      time += flighttime.loc[t[i][0], t[i][1]] + int(climatic_issues)\n",
        "    totalTime = time\n",
        "  return(totalTime)"
      ],
      "metadata": {
        "id": "c413vUlOq_Nf"
      },
      "execution_count": null,
      "outputs": []
    },
    {
      "cell_type": "code",
      "source": [
        "print(calculate_time(5))"
      ],
      "metadata": {
        "colab": {
          "base_uri": "https://localhost:8080/"
        },
        "id": "Rj-qFpguLhb4",
        "outputId": "7a7d64c2-e364-4c0e-872e-d00dc48487bf"
      },
      "execution_count": null,
      "outputs": [
        {
          "output_type": "stream",
          "name": "stdout",
          "text": [
            "282\n"
          ]
        }
      ]
    },
    {
      "cell_type": "code",
      "source": [
        "@anvil.server.callable\n",
        "def calculate_distance(desired_location):\n",
        "    import pandas as pd\n",
        "    df = pd.DataFrame(distance)\n",
        "    total_distance = df.iat[int(desired_location) - 1 , 0]\n",
        "    # print(total_distance)\n",
        "    # print(total_distance)\n",
        "    return (total_distance)"
      ],
      "metadata": {
        "id": "_GOZIlbaLJCL"
      },
      "execution_count": null,
      "outputs": []
    },
    {
      "cell_type": "code",
      "source": [
        "print(calculate_distance(3))"
      ],
      "metadata": {
        "colab": {
          "base_uri": "https://localhost:8080/"
        },
        "id": "bTlTFFloLtsB",
        "outputId": "a9df0f9d-98ed-40ea-9548-6c002e3af1ee"
      },
      "execution_count": null,
      "outputs": [
        {
          "output_type": "stream",
          "name": "stdout",
          "text": [
            "1497.61\n"
          ]
        }
      ]
    }
  ]
}